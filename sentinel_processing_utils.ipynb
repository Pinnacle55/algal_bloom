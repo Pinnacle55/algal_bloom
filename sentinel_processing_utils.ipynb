{
 "cells": [
  {
   "cell_type": "code",
   "execution_count": 3,
   "id": "cb330717",
   "metadata": {},
   "outputs": [],
   "source": [
    "import os, sys\n",
    "from glob import glob\n",
    "import argparse"
   ]
  },
  {
   "cell_type": "code",
   "execution_count": 5,
   "id": "ed6bdd2f",
   "metadata": {},
   "outputs": [],
   "source": [
    "def generate_input_file_list(folder):\n",
    "    '''\n",
    "    Creates a txt file called \"input_file_paths.txt\" containing all the Sentinel Bands in the folder. \n",
    "    \n",
    "    NOTE: The bands will be arranged 1-12, 8A due to sorting.\n",
    "    \n",
    "    Returns the path to the txt file.\n",
    "    '''\n",
    "    filepaths = glob(os.path.join(folder, \"*B*.jp2\"))\n",
    "    \n",
    "    file_path = os.path.join(folder, \"input_file_paths.txt\")\n",
    "    \n",
    "    with open(file_path, 'w') as file:\n",
    "        for item in filepaths:\n",
    "            file.write(str(item) + '\\n')\n",
    "        \n",
    "        file.close()\n",
    "        \n",
    "    return file_path"
   ]
  },
  {
   "cell_type": "code",
   "execution_count": null,
   "id": "7f464dc0",
   "metadata": {},
   "outputs": [],
   "source": [
    "# Call GDAL on command line\n",
    "# -separate means that each file in the input file list will be made into a separate band\n",
    "# -resolution user & -tr 10 10 together will upsample the image to 10m by 10m\n",
    "# -r bilinear indicates the upsampling algorithm\n",
    "command1 = 'gdalbuildvrt -separate -resolution user -tr 10 10 -r bilinear -input_file_list \"{input_file_list}\" sentinel.vrt'\n",
    "\n",
    "# Crops to a given shapefile/geojson\n",
    "# This SHOULD work regardless of the CRS of the OGR object\n",
    "command2 = 'gdalwarp -cutline \"{shapefile}\" -crop_to_cutline sentinel.vrt sentinel_cropped.vrt'\n",
    "\n",
    "# gdal_translate command to run depending on whather it was cropped\n",
    "command3 = 'gdal_translate -of GTiff sentinel.vrt sentinel_stacked.tif'\n",
    "command4 = 'gdal_translate -of GTiff sentinel_cropped.vrt sentinel_cropped_stacked.tif'"
   ]
  },
  {
   "cell_type": "code",
   "execution_count": null,
   "id": "cf029896",
   "metadata": {},
   "outputs": [],
   "source": [
    "def process_sentinel_folder(folder, shapefile = None):\n",
    "    input_file_list = generate_input_file_list(folder)\n",
    "    \n",
    "    os.system(command1.format(\n",
    "            input_file_list = input_file_list\n",
    "        ))\n",
    "    \n",
    "    if shapefile is not None:\n",
    "        os.system(command2.format(\n",
    "            shapefile = shapefile\n",
    "        ))\n",
    "        \n",
    "        os.system(command4)\n",
    "        \n",
    "    else:\n",
    "        os.system(command3)"
   ]
  },
  {
   "cell_type": "code",
   "execution_count": null,
   "id": "a17a6079",
   "metadata": {},
   "outputs": [],
   "source": [
    "if __name__ == \"__main__\":\n",
    "    parser = argparse.ArgumentParser(\n",
    "        description='Stacks, crops (optional), and converts Sentinel-2 bands into a GeoTIFF. GeoTIFF will be saved in the location where this file was run. Note that the final raster will not be in reflectances; DN to reflectance conversion is different depending on when the data was collected. Data produced prior to October 26, 2021 is normalized by DN / 10000, while data after October 26, 2021 is normalized by (DN - 1000) / 10000.')\n",
    "\n",
    "    # add positional argument (i.e., required argument)\n",
    "    parser.add_argument('filepath',\n",
    "                       help = 'Path to folder containing all Landsat bands and MTL file.')\n",
    "\n",
    "    # optional flags - the name of the variable is the -- option\n",
    "    parser.add_argument('-m', '--mask', help = 'Provide a shapefile that the images will be cropped to')\n",
    "    \n",
    "    # grab arguments from command line\n",
    "    args = parser.parse_args()\n",
    "    \n",
    "    # calculate TOA\n",
    "    process_sentinel_folder(args.filepath, \n",
    "                            shapefile = args.mask)"
   ]
  }
 ],
 "metadata": {
  "kernelspec": {
   "display_name": "Python [conda env:gdal]",
   "language": "python",
   "name": "conda-env-gdal-py"
  },
  "language_info": {
   "codemirror_mode": {
    "name": "ipython",
    "version": 3
   },
   "file_extension": ".py",
   "mimetype": "text/x-python",
   "name": "python",
   "nbconvert_exporter": "python",
   "pygments_lexer": "ipython3",
   "version": "3.11.5"
  }
 },
 "nbformat": 4,
 "nbformat_minor": 5
}

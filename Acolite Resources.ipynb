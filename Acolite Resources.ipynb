{
 "cells": [
  {
   "cell_type": "code",
   "execution_count": null,
   "id": "af70be79",
   "metadata": {},
   "outputs": [],
   "source": [
    "# Acolite is a software that helps calculate BOA reflectances from Sentinel and Landsat imagery\n",
    "# IT'S IMPORTANT THAT YOU READ THE MANUAL or else you'll have no idea what's going on\n",
    "# https://github.com/acolite/acolite/releases/tag/20231023.0\n",
    "\n",
    "# For Sentinel, use the .SAFE folder as the input file\n",
    "# The defaults will generate a cropped .nc file for the TOA and BOA reflectances, which will be labelled L1R and L2R, respectively\n",
    "# setting l2r_export_geotiff=True will export the files as unstacked/cropped geotiffs\n",
    "# The manual also provides a lot of preprocessing outputs that you can have, such as chlorophyll in water - these must be \n",
    "# indicated under l2w parameters"
   ]
  }
 ],
 "metadata": {
  "kernelspec": {
   "display_name": "Python [conda env:gdal]",
   "language": "python",
   "name": "conda-env-gdal-py"
  },
  "language_info": {
   "codemirror_mode": {
    "name": "ipython",
    "version": 3
   },
   "file_extension": ".py",
   "mimetype": "text/x-python",
   "name": "python",
   "nbconvert_exporter": "python",
   "pygments_lexer": "ipython3",
   "version": "3.11.5"
  }
 },
 "nbformat": 4,
 "nbformat_minor": 5
}
